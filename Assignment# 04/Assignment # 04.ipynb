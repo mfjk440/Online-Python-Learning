{
 "cells": [
  {
   "cell_type": "code",
   "execution_count": 9,
   "id": "5fbaa5a1",
   "metadata": {},
   "outputs": [
    {
     "name": "stdout",
     "output_type": "stream",
     "text": [
      "1.addition\n",
      "2.Subtractin\n",
      "3.multiplication\n",
      "4.division\n",
      "5.power\n",
      "Please Select which Operation to Perform:\n",
      "Select Number from 1 to 5:\n",
      "3\n",
      "Enter value of x:4\n",
      "Enter value of y:5\n",
      "4 * 5 = 20\n"
     ]
    }
   ],
   "source": [
    "#1. Make a calculator using Python with addition , subtraction , multiplication ,division and power.\n",
    "\n",
    "def add(x,y):\n",
    "    return x+y\n",
    "def subtract (x,y):\n",
    "    return x-y\n",
    "def multiply(x,y):\n",
    "    return x*y\n",
    "def divide(x,y):\n",
    "    return x/y\n",
    "def power(x,y):\n",
    "    return x**y\n",
    "\n",
    "print(\"1.addition\")\n",
    "print(\"2.Subtractin\")\n",
    "print(\"3.multiplication\")\n",
    "print(\"4.division\")\n",
    "print(\"5.power\")\n",
    "print(\"Please Select which Operation to Perform:\")\n",
    "\n",
    "press=int(input(\"Select Number from 1 to 5:\\n\"))\n",
    "x=int(input(\"Enter value of x:\"))\n",
    "y=int(input(\"Enter value of y:\"))\n",
    "\n",
    "if press==1:\n",
    "    print(x, \"+\", y, \"=\", add(x,y))\n",
    "elif press==2:\n",
    "    print(x, \"-\", y, \"=\", subtract(x,y))\n",
    "elif press==3:\n",
    "    print(x, \"*\", y, \"=\", multiply(x,y))\n",
    "elif press==4:\n",
    "    print(x, \"/\", y, \"=\", divide(x,y))\n",
    "elif press==5:\n",
    "    print(x, \"**\", y, \"=\", power(x,y))\n",
    "else:\n",
    "    print (\"invalid input\")"
   ]
  },
  {
   "cell_type": "code",
   "execution_count": 12,
   "id": "ad262cc3",
   "metadata": {},
   "outputs": [
    {
     "name": "stdout",
     "output_type": "stream",
     "text": [
      "5\n",
      "8\n"
     ]
    }
   ],
   "source": [
    "#2. Write a program to check if there is any numeric value in list using for loop.\n",
    "\n",
    "list=[\"a\",\"b\",5,\"c\",\"d\",8]\n",
    "for i in list:\n",
    "    if type(i)==int or type(i)==float:\n",
    "        print(i)"
   ]
  },
  {
   "cell_type": "code",
   "execution_count": 15,
   "id": "50930086",
   "metadata": {},
   "outputs": [
    {
     "name": "stdout",
     "output_type": "stream",
     "text": [
      "Enter 4th value:\n",
      "d\n"
     ]
    },
    {
     "data": {
      "text/plain": [
       "{1: 'a', 2: 'b', 3: 'c', 4: 'd'}"
      ]
     },
     "execution_count": 15,
     "metadata": {},
     "output_type": "execute_result"
    }
   ],
   "source": [
    "#3. Write a Python script to add a key to a dictionary.\n",
    "\n",
    "a=dict([(1,'a'),(2,'b'),(3,'c')])\n",
    "a\n",
    "inp=input(\"Enter 4th value:\\n\")\n",
    "a.update({(4,inp)})\n",
    "a"
   ]
  },
  {
   "cell_type": "code",
   "execution_count": 17,
   "id": "2893e22b",
   "metadata": {},
   "outputs": [
    {
     "name": "stdout",
     "output_type": "stream",
     "text": [
      "{'a': 100, 'b': 200, 'c': 'cat', 'd': 400.0, 'e': 'elephant'}\n",
      "100\n",
      "300\n",
      "700.0\n"
     ]
    }
   ],
   "source": [
    "#4. Write a Python program to sum all the numeric items in a dictionary.\n",
    "\n",
    "dictionary={'a':100,'b':200,'c':\"cat\",'d':400.0,'e':\"elephant\"}\n",
    "print(dictionary)\n",
    "sum=0\n",
    "for i in dictionary.values():\n",
    "    if type(i)==int or type(i)==float:\n",
    "        sum=sum+i\n",
    "        print(sum)"
   ]
  },
  {
   "cell_type": "code",
   "execution_count": 18,
   "id": "90a6aa77",
   "metadata": {},
   "outputs": [
    {
     "name": "stdout",
     "output_type": "stream",
     "text": [
      "Duplicate Values Are: [1, 3, -1, -2]\n"
     ]
    }
   ],
   "source": [
    "#5. Write a program to identify duplicate values from list.\n",
    "\n",
    "def duplicate(list):\n",
    "    n=len(list)\n",
    "    dup=[]\n",
    "    for i in range(n):\n",
    "        k=i+1\n",
    "        for j in range(k,n):\n",
    "            if list[i]==list[j] and list[i] not in dup:\n",
    "                dup.append(list[i])\n",
    "    return dup\n",
    "list= [ 1, 2, 3, -1, -2, 1, 4, -1, -2, 3]\n",
    "print(\"Duplicate Values Are:\",duplicate(list))"
   ]
  },
  {
   "cell_type": "code",
   "execution_count": 21,
   "id": "cdae0322",
   "metadata": {},
   "outputs": [
    {
     "name": "stdout",
     "output_type": "stream",
     "text": [
      "Enter a key:c\n",
      "Present\n"
     ]
    }
   ],
   "source": [
    "#6. Write a Python script to check if a given key already exists in a dictionary\n",
    "def checkKey(dict, key):    \n",
    "    if key in dict.keys():\n",
    "        print(\"Present\")\n",
    "    else:\n",
    "        print(\"Not present\")\n",
    "dict = {'a':100, 'b':200, 'c':300} \n",
    "key = input(\"Enter a key:\")\n",
    "checkKey(dict, key)"
   ]
  },
  {
   "cell_type": "code",
   "execution_count": null,
   "id": "1cdd3e4c",
   "metadata": {},
   "outputs": [],
   "source": []
  }
 ],
 "metadata": {
  "kernelspec": {
   "display_name": "Python 3",
   "language": "python",
   "name": "python3"
  },
  "language_info": {
   "codemirror_mode": {
    "name": "ipython",
    "version": 3
   },
   "file_extension": ".py",
   "mimetype": "text/x-python",
   "name": "python",
   "nbconvert_exporter": "python",
   "pygments_lexer": "ipython3",
   "version": "3.8.8"
  }
 },
 "nbformat": 4,
 "nbformat_minor": 5
}
