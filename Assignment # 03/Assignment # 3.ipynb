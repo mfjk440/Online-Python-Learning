{
 "cells": [
  {
   "cell_type": "code",
   "execution_count": 1,
   "id": "51a97c85",
   "metadata": {},
   "outputs": [
    {
     "name": "stdout",
     "output_type": "stream",
     "text": [
      "Twinkle, twinkle, little star, \n",
      "         How i wonder what you are! \n",
      "            Up above the world so high, \n",
      "            Like a diamond in the sky,\n",
      "Twinkle, twinkle, little star, \n",
      "         How i wonder what you are!\n"
     ]
    }
   ],
   "source": [
    "\"\"\"1-Write a Python Program to print the following string in a specific format (see the output)\n",
    "        Twinkle, twinkle, little star,\n",
    "                 How i wonder what you are!\n",
    "                       Up above the world so high,\n",
    "                       Like a diamond in the sky,\n",
    "        Twinkle, twinkle, little star,\n",
    "                 How i wonder what you are!\"\"\"\n",
    "#Code\n",
    "print (\"Twinkle, twinkle, little star, \\n         How i wonder what you are! \\n            Up above the world so high, \\n            Like a diamond in the sky,\\nTwinkle, twinkle, little star, \\n         How i wonder what you are!\" )"
   ]
  },
  {
   "cell_type": "code",
   "execution_count": 2,
   "id": "cb57b536",
   "metadata": {},
   "outputs": [
    {
     "name": "stdout",
     "output_type": "stream",
     "text": [
      "Python Version\n",
      "3.8.8 (default, Apr 13 2021, 15:08:03) [MSC v.1916 64 bit (AMD64)]\n",
      "Version Info\n",
      "sys.version_info(major=3, minor=8, micro=8, releaselevel='final', serial=0)\n"
     ]
    }
   ],
   "source": [
    "\"\"\"2-Write a Python Program to get the Puthon version you are using\"\"\"\n",
    "#Code\n",
    "import sys;\n",
    "print (\"Python Version\");\n",
    "print (sys.version);\n",
    "print (\"Version Info\");\n",
    "print (sys.version_info);"
   ]
  },
  {
   "cell_type": "code",
   "execution_count": 3,
   "id": "beb44771",
   "metadata": {},
   "outputs": [
    {
     "name": "stdout",
     "output_type": "stream",
     "text": [
      "Current date and time : \n",
      "2021-10-24 14:48:41\n"
     ]
    }
   ],
   "source": [
    "\"\"\"3-Write a Python Program to display the current date and time\"\"\"\n",
    "#Code\n",
    "import datetime;\n",
    "now = datetime.datetime.now();\n",
    "print (\"Current date and time : \");\n",
    "print (now.strftime(\"%Y-%m-%d %H:%M:%S\"));"
   ]
  },
  {
   "cell_type": "code",
   "execution_count": 4,
   "id": "988ec58f",
   "metadata": {},
   "outputs": [
    {
     "name": "stdout",
     "output_type": "stream",
     "text": [
      "Input the radius of the circle: 5\n",
      "The Area of the Circle is:\n",
      "78.53981633974483\n"
     ]
    }
   ],
   "source": [
    "\"\"\"4-Write a Python Program which accepts the radius of the circle from the user and compute area\"\"\"\n",
    "#Code\n",
    "from math import pi;\n",
    "r=float (input (\"Input the radius of the circle: \"));\n",
    "Area=(pi*r**2);\n",
    "print (\"The Area of the Circle is:\");\n",
    "print (Area);"
   ]
  },
  {
   "cell_type": "code",
   "execution_count": 5,
   "id": "0656d3fd",
   "metadata": {},
   "outputs": [
    {
     "name": "stdout",
     "output_type": "stream",
     "text": [
      "Enter Your First Name:Muhammad\n",
      "Enter Your Last NameFaisal\n",
      "Faisal Muhammad\n"
     ]
    }
   ],
   "source": [
    "\"\"\"5-Write a Python Program which accepts the user's first and last name and print them in reverse order with a space between them\"\"\"\n",
    "#Code\n",
    "First_Name=input (\"Enter Your First Name:\");\n",
    "Last_Name=input (\"Enter Your Last Name\");\n",
    "print(Last_Name+\" \"+First_Name);"
   ]
  },
  {
   "cell_type": "code",
   "execution_count": 6,
   "id": "60028f85",
   "metadata": {},
   "outputs": [
    {
     "name": "stdout",
     "output_type": "stream",
     "text": [
      "Enter 1st Numer:50\n",
      "Enter 2nd Numer:80\n",
      "130\n"
     ]
    }
   ],
   "source": [
    "\"\"\"6-Write a Python Program which takes two inputs frpm user and print them addidtion\"\"\"\n",
    "#Code\n",
    "First_Number=input(\"Enter 1st Numer:\");\n",
    "Second_Number=input(\"Enter 2nd Numer:\");\n",
    "print (int(First_Number)+int(Second_Number));"
   ]
  },
  {
   "cell_type": "code",
   "execution_count": 7,
   "id": "8bea7852",
   "metadata": {},
   "outputs": [
    {
     "name": "stdout",
     "output_type": "stream",
     "text": [
      "Enter English Marks:40\n",
      "Enter Math Marks:50\n",
      "Enter Urdu Marks:60\n",
      "Enter Islamiat Marks:70\n",
      "Enter Physics Marks:80\n",
      "Your Grade is B\n"
     ]
    }
   ],
   "source": [
    "\"\"\"7-Write a Python Program which takes 5 inputs from user for different subject's marks, total it and generate mark sheet using grade\"\"\"\n",
    "#Code\n",
    "Eng_Marks=int (input (\"Enter English Marks:\"));\n",
    "Math_Marks=int (input (\"Enter Math Marks:\"));\n",
    "Urdu_Marks=int (input (\"Enter Urdu Marks:\"));\n",
    "Isl_Marks=int (input (\"Enter Islamiat Marks:\"));\n",
    "Phy_Marks=int (input (\"Enter Physics Marks:\"));\n",
    "Marks_Obtained=Eng_Marks+Math_Marks+Urdu_Marks+Isl_Marks+Phy_Marks;\n",
    "Total_Marks=500;\n",
    "Percentage=(Marks_Obtained/Total_Marks)*100;\n",
    "if (Percentage>=80 and Percentage<=100):\n",
    "    print (\"You Grade is A+\");\n",
    "elif (Percentage>=70 and Percentage<80):\n",
    "    print (\"Your Grade is A\");\n",
    "elif (Percentage>=60 and Percentage<70):\n",
    "    print (\"Your Grade is B\");\n",
    "elif (Percentage>=50 and Percentage<60):\n",
    "    print (\"Your Grade is C\");\n",
    "elif (Percentage>=40 and Percentage<50):\n",
    "    print (\"Your Grade is D\");\n",
    "elif (Percentage>=33 and Percentage<40):\n",
    "    print (\"Your Grade is E\");\n",
    "elif (Percentage<33):\n",
    "    print (\"Your Grade is F\");\n",
    "else:\n",
    "    print (\"Invalid Input\");"
   ]
  },
  {
   "cell_type": "code",
   "execution_count": 8,
   "id": "d8b6c805",
   "metadata": {},
   "outputs": [
    {
     "name": "stdout",
     "output_type": "stream",
     "text": [
      "Enter a Number:66\n",
      "Number is Even\n"
     ]
    }
   ],
   "source": [
    "\"\"\"8-Write a Python Program which takes input from user and identify that the given number is even or odd \"\"\"\n",
    "#Code\n",
    "Number=int (input (\"Enter a Number:\"));\n",
    "if (Number%2==0):\n",
    "    print (\"Number is Even\");\n",
    "else:\n",
    "    print (\"Number is Odd\");"
   ]
  },
  {
   "cell_type": "code",
   "execution_count": 9,
   "id": "0162e9a7",
   "metadata": {},
   "outputs": [
    {
     "name": "stdout",
     "output_type": "stream",
     "text": [
      "The List is:[1, 2, 3, 4, 5, 6, 7, 8]\n",
      "The Length of the List is: 8\n"
     ]
    }
   ],
   "source": [
    "\"\"\"9-Write a Python Program which print the length of the list\"\"\"\n",
    "#Code\n",
    "List=[1,2,3,4,5,6,7,8];\n",
    "print (\"The List is:\" + str(List));\n",
    "print (\"The Length of the List is:\", len(List));"
   ]
  },
  {
   "cell_type": "code",
   "execution_count": 10,
   "id": "0668475a",
   "metadata": {},
   "outputs": [
    {
     "name": "stdout",
     "output_type": "stream",
     "text": [
      "['2', '4']\n"
     ]
    }
   ],
   "source": [
    "\"\"\"10-Write a Python Program to sum all the numeric items in a list\"\"\"\n",
    "#Code\n",
    "a = ['One','2','Three','4','Five'];\n",
    "Numeric_Value = [];\n",
    "for item in a:\n",
    "    for subitem in item.split():\n",
    "        if(subitem.isdigit()):\n",
    "            Numeric_Value.append(subitem)\n",
    "print (Numeric_Value);"
   ]
  },
  {
   "cell_type": "code",
   "execution_count": 11,
   "id": "1ea3a2d2",
   "metadata": {},
   "outputs": [
    {
     "name": "stdout",
     "output_type": "stream",
     "text": [
      "Largest Number in list a is 10\n"
     ]
    }
   ],
   "source": [
    "\"\"\"11-Write a Python Program to get the largest number from a numeric list\"\"\"\n",
    "#Code\n",
    "a=[1,2,3,4,5,6,10,7,8];\n",
    "print(\"Largest Number in list a is\",max(a));"
   ]
  },
  {
   "cell_type": "code",
   "execution_count": 12,
   "id": "8434d80f",
   "metadata": {},
   "outputs": [
    {
     "name": "stdout",
     "output_type": "stream",
     "text": [
      "1\n",
      "1\n",
      "2\n",
      "3\n"
     ]
    }
   ],
   "source": [
    "\"\"\"12-Take a list for example this one:\n",
    "a=[1,1,2,3,5,8,13,21,34,55,89]\n",
    "Write a Python Program that print out all the elements of the list that are less than 5\"\"\"\n",
    "#Code\n",
    "a=[1,1,2,3,5,8,13,21,34,55,89];\n",
    "for i in a:\n",
    "    if i<5:\n",
    "        print (i);"
   ]
  },
  {
   "cell_type": "code",
   "execution_count": null,
   "id": "1ee3bec3",
   "metadata": {},
   "outputs": [],
   "source": []
  }
 ],
 "metadata": {
  "kernelspec": {
   "display_name": "Python 3",
   "language": "python",
   "name": "python3"
  },
  "language_info": {
   "codemirror_mode": {
    "name": "ipython",
    "version": 3
   },
   "file_extension": ".py",
   "mimetype": "text/x-python",
   "name": "python",
   "nbconvert_exporter": "python",
   "pygments_lexer": "ipython3",
   "version": "3.8.8"
  }
 },
 "nbformat": 4,
 "nbformat_minor": 5
}
